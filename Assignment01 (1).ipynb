{
  "nbformat": 4,
  "nbformat_minor": 0,
  "metadata": {
    "colab": {
      "provenance": []
    },
    "kernelspec": {
      "name": "python3",
      "display_name": "Python 3"
    },
    "language_info": {
      "name": "python"
    }
  },
  "cells": [
    {
      "cell_type": "markdown",
      "source": [
        "# ***ASSIGNMENT 01 - BASICS OF PYTHON***\n"
      ],
      "metadata": {
        "id": "w-X3KFLXlE1x"
      }
    },
    {
      "cell_type": "markdown",
      "source": [
        "# ***THEORY***"
      ],
      "metadata": {
        "id": "QV_l64ERSZqP"
      }
    },
    {
      "cell_type": "markdown",
      "source": [
        "Question 01 - what is python and why is it popular?\n",
        "### ***Ans*** - Python is a high-level, general-purpose programming language known for its simplicity, readability, and versatility across many domains including web development, software development, automation, data analysis, and artificial intelligence. Python is popular because it is beginner-friendly, easy to learn and understand, supports rapid prototyping, has a massive standard library, and boasts an expansive and active global community"
      ],
      "metadata": {
        "id": "TLzVU22hlTmH"
      }
    },
    {
      "cell_type": "markdown",
      "source": [
        "Question 02 - What is an interpretor in python?\n",
        "## ***Ans*** - An interpreter in Python is a program that reads, processes, and executes Python code, either from a script file or entered interactively, translating it step-by-step into actions the computer performs."
      ],
      "metadata": {
        "id": "drcAZSpmmNZ-"
      }
    },
    {
      "cell_type": "markdown",
      "source": [
        "Question 03 - What are pre-defined keywords in python?\n",
        "### ***Ans*** - Pre-defined keywords in Python are special reserved words that have specific meanings and are fundamental to the language's syntax and structure. These keywords cannot be used as variable, function, class names, or other identifiers.\n"
      ],
      "metadata": {
        "id": "bfijC4eJmsLZ"
      }
    },
    {
      "cell_type": "markdown",
      "source": [
        "Question 04 - Can key words can be used as variabe names?\n",
        "### ***Ans*** - No, keywords cannot be used as variable names in Python. Keywords are special reserved words that have predefined meanings and are fundamental to the structure and syntax of the language. If you try to use a keyword as a variable name (for example, if, for, or class), Python will raise a SyntaxError. This restriction prevents confusion and ensures that the language's syntax remains unambiguous and consistent."
      ],
      "metadata": {
        "id": "WIMz2RgMms55"
      }
    },
    {
      "cell_type": "markdown",
      "source": [
        "Question 05 - What is mutability in python?\n",
        "###***Ans*** - Mutability in Python refers to whether or not an object's value can be changed after it has been created. A mutable object can be modified in place—its internal state or contents can be changed without creating a new object."
      ],
      "metadata": {
        "id": "i1a0V3I7nAsb"
      }
    },
    {
      "cell_type": "markdown",
      "source": [
        "Question 06 - Why are lists mutable, but tuples are immutable ?\n",
        "### ***Ans*** - Lists are mutable in Python because they are designed to allow modifications after creation—you can add, remove, or change elements dynamically. This mutability offers flexibility for operations where the data needs to change, such as inserting or deleting items, which is why lists support many built-in methods for modification.\n",
        "\n",
        "### Tuples, on the other hand, are immutable, meaning once created, their contents cannot be changed. This immutability means you cannot add, remove, or alter elements after the tuple is defined"
      ],
      "metadata": {
        "id": "6zRBe30_nDzm"
      }
    },
    {
      "cell_type": "markdown",
      "source": [
        "Question 07 - What is the difference between “==” and “is” operators in Python\n",
        "### ***Ans*** - The difference between the == and is operators in Python lies in what they compare:\n",
        "\n",
        "### \"==\" is the equality operator: it checks whether the values of two objects are equal. In other words, it compares the contents or data of the objects. Two different objects with the same content will be considered equal using '=='.\n",
        "\n",
        "### \"is\" is the identity operator: it checks whether two variables point to the exact same object in memory. It compares object identity, not just value."
      ],
      "metadata": {
        "id": "tlc8N2DpXWkL"
      }
    },
    {
      "cell_type": "markdown",
      "source": [
        "Question 08 - What are logical operators in Python\n",
        "### ***Ans*** - Logical operators in Python are used to combine conditional statements and perform logical operations, typically returning True or False based on the logic applied to the operands. There are three main logical operators in Python:\n",
        "\n",
        "### --> and: Returns True if both operands (conditions) are true.\n",
        "\n",
        "### --> or: Returns True if at least one of the operands is true.\n",
        "\n",
        "### --> not: Reverses the boolean value of the operand; returns True if the operand is false, and False if the operand is true."
      ],
      "metadata": {
        "id": "bZcXeq0VXXI8"
      }
    },
    {
      "cell_type": "markdown",
      "source": [
        "Question 09 - What is type casting in Python ?\n",
        "### ***Ans*** - Type casting in Python is the process of converting a variable from one data type to another. It allows you to change the type of a value to perform operations that require specific data types.\n"
      ],
      "metadata": {
        "id": "SSiOpSibNoUL"
      }
    },
    {
      "cell_type": "markdown",
      "source": [
        "Question 10 - What is the difference between implicit and explicit type casting ?\n",
        "###*** Ans*** -\n",
        "### 1_Implicit Type Casting: Python automatically converts one data type to another without user intervention, typically to avoid data loss. For example, when adding an integer and a float, Python converts the integer to a float automatically.\n",
        "\n",
        "### 2_Explicit Type Casting (or type conversion): The user manually converts a variable to a desired type using built-in functions such as int(), float(), and str()."
      ],
      "metadata": {
        "id": "KYksNQB1XYVR"
      }
    },
    {
      "cell_type": "markdown",
      "source": [
        "Question 11-  What is the purpose of conditional statements in Python ?\n",
        "### ***Ans***- The purpose of conditional statements in Python is to control the flow of a program by executing specific blocks of code only when certain conditions are met. They enable the program to make decisions and behave differently based on varying inputs or circumstances. Without conditional statements, programs would execute sequentially without the ability to adapt or choose between different pathways."
      ],
      "metadata": {
        "id": "yTmhjPhuPdDE"
      }
    },
    {
      "cell_type": "markdown",
      "source": [
        "question 12 - How does the elif statement work ?\n",
        "### ***Ans*** -\n",
        "### The elif statement in Python stands for \"else if\" and is used to check additional conditions after an initial if statement if the previous conditions are false. It allows you to test multiple expressions sequentially, executing the block of code corresponding to the first condition that evaluates to True and skipping the rest."
      ],
      "metadata": {
        "id": "PD5BI5pqXZqZ"
      }
    },
    {
      "cell_type": "markdown",
      "source": [
        "Question 13 - What is the difference between for and while loops ?\n",
        "### Ans -The difference between for and while loops in Python mainly lies in how they control the iterations:\n",
        "\n",
        "### **For loop**: It is used when the number of iterations (loops) is known or predetermined. It iterates over a sequence of items like a list, tuple, string, or range. The loop variable takes each value from the sequence one by one, and the loop runs for that fixed number of iterations.\n",
        "\n",
        "### **While loop**: It is used when the number of iterations is not known in advance. The loop runs repeatedly as long as a given condition evaluates to True. It continues until the condition becomes False, which may depend on the internal logic inside the loop.\n"
      ],
      "metadata": {
        "id": "m5OBGMSYXZ5R"
      }
    },
    {
      "cell_type": "markdown",
      "source": [
        "Question 14 - Describe a scenario where a while loop is more suitable than a for loop.\n",
        "### ***Ans*** -A while loop is more suitable than a for loop in scenarios where you do not know beforehand how many times the loop should run, and the repetition depends on a condition that could change dynamically during the program’s execution.\n",
        "\n",
        "### Example scenario:\n",
        "### Suppose you’re building a user authentication system that keeps prompting the user to enter the correct password until they get it right. Since you don’t know in advance how many attempts the user will need, a while loop is ideal:"
      ],
      "metadata": {
        "id": "x0Nc1CVDY4Fe"
      }
    },
    {
      "cell_type": "markdown",
      "source": [
        "## ***PRACTICAL*** ***QUESTONS***"
      ],
      "metadata": {
        "id": "1e497Yv3Sjx2"
      }
    },
    {
      "cell_type": "code",
      "source": [
        "# QUESTION 1--> to write a python code to print \"hello!world\"\n",
        "print(\"Hello! World\")\n"
      ],
      "metadata": {
        "colab": {
          "base_uri": "https://localhost:8080/"
        },
        "id": "ixv1cwH4TTxF",
        "outputId": "19d6bc9d-66da-4f92-aa62-422d3eceaf76"
      },
      "execution_count": null,
      "outputs": [
        {
          "output_type": "stream",
          "name": "stdout",
          "text": [
            "Hello! World\n"
          ]
        }
      ]
    },
    {
      "cell_type": "code",
      "source": [
        "# QUESTION 2--> Write a Python program that displays your name and age?\n",
        "name = input(\"Enter your name: \")\n",
        "age = int(input(\"Enter your age: \"))\n",
        "print(\"Name is :\", name)\n",
        "print(\"Age is:\", age)"
      ],
      "metadata": {
        "colab": {
          "base_uri": "https://localhost:8080/"
        },
        "id": "RnzoSUJRTTlZ",
        "outputId": "8aff2eae-f986-4368-a7d4-c9ed013057ca"
      },
      "execution_count": null,
      "outputs": [
        {
          "output_type": "stream",
          "name": "stdout",
          "text": [
            "Enter your name: AKASH NEGI\n",
            "Enter your age: 21\n",
            "Name is : AKASH NEGI\n",
            "Age is: 21\n"
          ]
        }
      ]
    },
    {
      "cell_type": "code",
      "source": [
        "# QUESTION 3--> Write code to print all the pre-defined keywords in Python using the keyword library\n",
        "import keyword\n",
        "print(keyword.kwlist)"
      ],
      "metadata": {
        "colab": {
          "base_uri": "https://localhost:8080/"
        },
        "id": "MpY4lXyWSt6q",
        "outputId": "d277465d-8eda-4766-94df-34e2af51366a"
      },
      "execution_count": null,
      "outputs": [
        {
          "output_type": "stream",
          "name": "stdout",
          "text": [
            "['False', 'None', 'True', 'and', 'as', 'assert', 'async', 'await', 'break', 'class', 'continue', 'def', 'del', 'elif', 'else', 'except', 'finally', 'for', 'from', 'global', 'if', 'import', 'in', 'is', 'lambda', 'nonlocal', 'not', 'or', 'pass', 'raise', 'return', 'try', 'while', 'with', 'yield']\n"
          ]
        }
      ]
    },
    {
      "cell_type": "code",
      "source": [
        "# QUESTION 4-->8 Write a program that checks if a given word is a Python keyword.\n",
        "import keyword\n",
        "word = input(\"Enter a word: \")\n",
        "if keyword.iskeyword(word):\n",
        "    print(f\"{word} is a Python keyword.\")\n",
        "else:\n",
        "    print(f\"{word} is not a Python keyword.\")\n"
      ],
      "metadata": {
        "colab": {
          "base_uri": "https://localhost:8080/"
        },
        "id": "-UPqvUATSt3a",
        "outputId": "0ed0dbc8-f22e-4453-cbbf-61ceee3bd052"
      },
      "execution_count": null,
      "outputs": [
        {
          "output_type": "stream",
          "name": "stdout",
          "text": [
            "Enter a word: True\n",
            "True is a Python keyword.\n"
          ]
        }
      ]
    },
    {
      "cell_type": "code",
      "source": [
        "# QUESTION 5 -->5. Create a list and tuple in Python, and demonstrate how attempting to change an element works differently\n",
        "# for each\n",
        "list_ = [1, 2, 3, 4, 5]\n",
        "tuple_= (1, 2, 3, 4, 5)\n",
        "list_[0] = 10 #it will give the desired output as lists are mutable\n",
        "tuple_[0] = 10 #it gives error as tuple is immutable\n",
        "print(list_)\n",
        "print(tuple_)"
      ],
      "metadata": {
        "colab": {
          "base_uri": "https://localhost:8080/",
          "height": 211
        },
        "id": "SczSgB58StzY",
        "outputId": "e25b215d-a34c-4419-a3c5-3d8a338fc91d"
      },
      "execution_count": null,
      "outputs": [
        {
          "output_type": "error",
          "ename": "TypeError",
          "evalue": "'tuple' object does not support item assignment",
          "traceback": [
            "\u001b[0;31m---------------------------------------------------------------------------\u001b[0m",
            "\u001b[0;31mTypeError\u001b[0m                                 Traceback (most recent call last)",
            "\u001b[0;32m/tmp/ipython-input-472832140.py\u001b[0m in \u001b[0;36m<cell line: 0>\u001b[0;34m()\u001b[0m\n\u001b[1;32m      4\u001b[0m \u001b[0mtuple_\u001b[0m\u001b[0;34m=\u001b[0m \u001b[0;34m(\u001b[0m\u001b[0;36m1\u001b[0m\u001b[0;34m,\u001b[0m \u001b[0;36m2\u001b[0m\u001b[0;34m,\u001b[0m \u001b[0;36m3\u001b[0m\u001b[0;34m,\u001b[0m \u001b[0;36m4\u001b[0m\u001b[0;34m,\u001b[0m \u001b[0;36m5\u001b[0m\u001b[0;34m)\u001b[0m\u001b[0;34m\u001b[0m\u001b[0;34m\u001b[0m\u001b[0m\n\u001b[1;32m      5\u001b[0m \u001b[0mlist_\u001b[0m\u001b[0;34m[\u001b[0m\u001b[0;36m0\u001b[0m\u001b[0;34m]\u001b[0m \u001b[0;34m=\u001b[0m \u001b[0;36m10\u001b[0m\u001b[0;34m\u001b[0m\u001b[0;34m\u001b[0m\u001b[0m\n\u001b[0;32m----> 6\u001b[0;31m \u001b[0mtuple_\u001b[0m\u001b[0;34m[\u001b[0m\u001b[0;36m0\u001b[0m\u001b[0;34m]\u001b[0m \u001b[0;34m=\u001b[0m \u001b[0;36m10\u001b[0m \u001b[0;31m#it gives error as tuple is immutable\u001b[0m\u001b[0;34m\u001b[0m\u001b[0;34m\u001b[0m\u001b[0m\n\u001b[0m\u001b[1;32m      7\u001b[0m \u001b[0mprint\u001b[0m\u001b[0;34m(\u001b[0m\u001b[0mlist_\u001b[0m\u001b[0;34m)\u001b[0m\u001b[0;34m\u001b[0m\u001b[0;34m\u001b[0m\u001b[0m\n\u001b[1;32m      8\u001b[0m \u001b[0mprint\u001b[0m\u001b[0;34m(\u001b[0m\u001b[0mtuple_\u001b[0m\u001b[0;34m)\u001b[0m\u001b[0;34m\u001b[0m\u001b[0;34m\u001b[0m\u001b[0m\n",
            "\u001b[0;31mTypeError\u001b[0m: 'tuple' object does not support item assignment"
          ]
        }
      ]
    },
    {
      "cell_type": "code",
      "source": [
        "# QUESTION 6--> Write a function to demonstrate the behavior of mutable and immutable arguments.\n"
      ],
      "metadata": {
        "id": "A0HvxpZ9StwV"
      },
      "execution_count": null,
      "outputs": []
    },
    {
      "cell_type": "code",
      "source": [
        "# QUESTION 7--> Write a program that performs basic arithmetic operations on two user-input numbers.\n",
        "num1 = float(input(\"Enter the first number: \"))\n",
        "num2 = float(input(\"Enter the second number: \"))\n",
        "print(\"Addition:\", num1 + num2)\n",
        "print(\"Subtraction:\", num1 - num2)\n",
        "print(\"Multiplication:\", num1 * num2)\n",
        "print(\"Division:\", num1 / num2)"
      ],
      "metadata": {
        "colab": {
          "base_uri": "https://localhost:8080/"
        },
        "id": "V7diPOj0Sts8",
        "outputId": "bb7aae46-62c9-45b1-9392-55b9aa964784"
      },
      "execution_count": null,
      "outputs": [
        {
          "output_type": "stream",
          "name": "stdout",
          "text": [
            "Enter the first number: 10\n",
            "Enter the second number: 2\n",
            "Addition: 12.0\n",
            "Subtraction: 8.0\n",
            "Multiplication: 20.0\n",
            "Division: 5.0\n"
          ]
        }
      ]
    },
    {
      "cell_type": "code",
      "source": [
        "# QUESTION 8--> Write a program to demonstrate the use of logical operators\n",
        "num1 = float(input(\"Enter the first number: \"))\n",
        "num2 = float(input(\"Enter the second number: \"))\n",
        "print(\"Logical AND:\", num1 > 0 and num2 > 0) #gives true when both are true else gives false\n",
        "print(\"Logical OR:\", num1 > 0 or num2 > 0) #gives true when either of one is true\n",
        "print(\"Logical NOT:\", not (num1 > 0)) #gives the opposite\n",
        "\n"
      ],
      "metadata": {
        "colab": {
          "base_uri": "https://localhost:8080/"
        },
        "id": "eLi7TyKTStoe",
        "outputId": "8a4dfe1b-a4ea-4fe8-a23f-2218bc74ca52"
      },
      "execution_count": null,
      "outputs": [
        {
          "output_type": "stream",
          "name": "stdout",
          "text": [
            "Enter the first number: 3\n",
            "Enter the second number: -1\n",
            "Logical AND: False\n",
            "Logical OR: True\n",
            "Logical NOT: False\n"
          ]
        }
      ]
    },
    {
      "cell_type": "code",
      "source": [
        "# QUESTION 9-->Write a Python program to convert user input from string to integer, float, and boolean types.\n",
        "num=input (\"Enter a number:\")\n",
        "print(type (num))\n",
        "num=int(num) #to convert num into integer\n",
        "print(type(num))\n",
        "print(num)\n",
        "num=float(num) #to convert num into float\n",
        "print(type(num))\n",
        "print(num)\n",
        "num=bool(num) #to convert num into boolean\n",
        "print(type(num))\n",
        "print(num)\n"
      ],
      "metadata": {
        "colab": {
          "base_uri": "https://localhost:8080/"
        },
        "id": "vV82ZS6iYiTd",
        "outputId": "7dac8d1a-db80-4451-9898-4981f4530abc"
      },
      "execution_count": null,
      "outputs": [
        {
          "output_type": "stream",
          "name": "stdout",
          "text": [
            "Enter a number:0\n",
            "<class 'str'>\n",
            "<class 'int'>\n",
            "0\n",
            "<class 'float'>\n",
            "0.0\n",
            "<class 'bool'>\n",
            "False\n"
          ]
        }
      ]
    },
    {
      "cell_type": "code",
      "source": [
        "# QUESTION 10 --> Write code to demonstrate type casting with list elements\n",
        "list_=[\"Hello\",125,True,20.0,\"125\"]\n",
        "print(list_)\n",
        "for i in list_ :\n",
        "  print(f\"type of {i} is {type(i)}\")\n",
        "\n",
        "\n"
      ],
      "metadata": {
        "colab": {
          "base_uri": "https://localhost:8080/"
        },
        "id": "hMZc27_dStig",
        "outputId": "2e33dbfd-10ef-469b-dd4a-c81c18e5adef"
      },
      "execution_count": null,
      "outputs": [
        {
          "output_type": "stream",
          "name": "stdout",
          "text": [
            "['Hello', 125, True, 20.0, '125']\n",
            "type of Hello is <class 'str'>\n",
            "type of 125 is <class 'int'>\n",
            "type of True is <class 'bool'>\n",
            "type of 20.0 is <class 'float'>\n",
            "type of 125 is <class 'str'>\n"
          ]
        }
      ]
    },
    {
      "cell_type": "code",
      "source": [
        "# QUESTION 11-->  Write a program that checks if a number is positive, negative, or zero\n",
        "num=int(input(\"Enter a number:\"))\n",
        "if num>0:\n",
        "  print(\"Number is positive\")\n",
        "elif num<0:\n",
        "  print(\"Number is negative\")\n",
        "else:\n",
        "  print(\"Number is zero\")\n"
      ],
      "metadata": {
        "colab": {
          "base_uri": "https://localhost:8080/"
        },
        "id": "FgTv4M_hStcp",
        "outputId": "b8ec7d08-5157-46ba-b372-8ca771d9a353"
      },
      "execution_count": null,
      "outputs": [
        {
          "output_type": "stream",
          "name": "stdout",
          "text": [
            "Enter a number:213\n",
            "Number is positive\n"
          ]
        }
      ]
    },
    {
      "cell_type": "code",
      "source": [
        "# QUESTION 12--> Write a for loop to print numbers from 1 to 10\n",
        "for i in range(1, 11):\n",
        "    print(i)"
      ],
      "metadata": {
        "colab": {
          "base_uri": "https://localhost:8080/"
        },
        "id": "E7IO0i62StV2",
        "outputId": "37cfb397-5a24-4ceb-cb35-570a9c7517f9"
      },
      "execution_count": null,
      "outputs": [
        {
          "output_type": "stream",
          "name": "stdout",
          "text": [
            "1\n",
            "2\n",
            "3\n",
            "4\n",
            "5\n",
            "6\n",
            "7\n",
            "8\n",
            "9\n",
            "10\n"
          ]
        }
      ]
    },
    {
      "cell_type": "code",
      "source": [
        "# QUESTION 13 --> Write a Python program to find the sum of all even numbers between 1 and 50\n",
        "sum=0\n",
        "for i in range (1,51):\n",
        "  if i%2==0:\n",
        "     sum=sum=sum + i\n",
        "print(f\"sum of all even numbers between 1 & 50 is {sum}\")\n"
      ],
      "metadata": {
        "colab": {
          "base_uri": "https://localhost:8080/"
        },
        "id": "bIcz1_tVStNO",
        "outputId": "744aae83-269e-4b3e-f1de-d6aca17c375f"
      },
      "execution_count": null,
      "outputs": [
        {
          "output_type": "stream",
          "name": "stdout",
          "text": [
            "sum of all even numbers between 1 & 50 is 650\n"
          ]
        }
      ]
    },
    {
      "cell_type": "code",
      "source": [
        "# QUESTION 14--> Write a program to reverse a string using a while loop\n",
        "string = input(\"Enter a string: \") #taking string from user\n",
        "reversed_string = \"\" #empty string\n",
        "index = len(string) - 1\n",
        "while index >= 0:\n",
        "    reversed_string += string[index]\n",
        "    index -= 1\n",
        "print(\"Reversed string:\", reversed_string)\n"
      ],
      "metadata": {
        "colab": {
          "base_uri": "https://localhost:8080/"
        },
        "id": "Q6cA01u4Ss6W",
        "outputId": "1101c237-bfbb-4b50-b5e1-9bc2f61541ed"
      },
      "execution_count": null,
      "outputs": [
        {
          "output_type": "stream",
          "name": "stdout",
          "text": [
            "Enter a string: PW SKILLS\n",
            "Reversed string: SLLIKS WP\n"
          ]
        }
      ]
    },
    {
      "cell_type": "code",
      "source": [
        "# QUESTION 15 -->Write a Python program to calculate the factorial of a number provided by the user using a while loop\n",
        "num=int(input(\"enter any number:\"))\n",
        "fact=1\n",
        "while num>0:\n",
        "  fact=num*fact\n",
        "  num-=1\n",
        "\n",
        "\n",
        "print(fact)"
      ],
      "metadata": {
        "colab": {
          "base_uri": "https://localhost:8080/"
        },
        "id": "1zbCaTIppnU2",
        "outputId": "460e9b54-2cf0-469b-f396-c9115b0c26de"
      },
      "execution_count": null,
      "outputs": [
        {
          "output_type": "stream",
          "name": "stdout",
          "text": [
            "enter any number:5\n",
            "120\n"
          ]
        }
      ]
    },
    {
      "cell_type": "markdown",
      "source": [
        "***THANK*** ***YOU!***"
      ],
      "metadata": {
        "id": "2WaU2T1IVmU4"
      }
    }
  ]
}