{
  "nbformat": 4,
  "nbformat_minor": 0,
  "metadata": {
    "colab": {
      "provenance": []
    },
    "kernelspec": {
      "name": "python3",
      "display_name": "Python 3"
    },
    "language_info": {
      "name": "python"
    }
  },
  "cells": [
    {
      "cell_type": "markdown",
      "source": [
        "# Assignment 03 - Funtions"
      ],
      "metadata": {
        "id": "WYRzxw8NK2_-"
      }
    },
    {
      "cell_type": "markdown",
      "source": [
        "## Theory Answers"
      ],
      "metadata": {
        "id": "-8zY4ENfK3IJ"
      }
    },
    {
      "cell_type": "markdown",
      "source": [
        "### Question 01-->What is the difference between a function and a method in Python?\n",
        "***Ans-->*** *Function\n",
        "\n",
        "A function is a block of reusable code defined independently, not tied to any object or class.\n",
        "\n",
        "Functions are called by their name directly.\n",
        "\n",
        "They do not have any implicit first argument.\n",
        "\n",
        "Example:\n",
        "\n",
        "python\n",
        "def add(a, b):\n",
        "    return a + b\n",
        "\n",
        "result = add(3, 5)  # Calling function directly\n",
        "print(result)       # Output: 8\n",
        "\n",
        "*Method\n",
        "\n",
        "A method is a function that is defined inside a class and is associated with an object.\n",
        "\n",
        "\n",
        "\n",
        "\n",
        "\n"
      ],
      "metadata": {
        "id": "G3FB0Vw4LUOl"
      }
    },
    {
      "cell_type": "markdown",
      "source": [
        "### Question 02-->Explain the concept of function arguments and parameters in Python.\n",
        "***Ans-->***Parameters\n",
        "\n",
        "Parameters are the variable names defined in the function signature.\n",
        "\n",
        "Example:\n",
        "\n",
        "python\n",
        "def greet(name):  # 'name' is a parameter\n",
        "    print(f\"Hello, {name}!\")\n",
        "\n",
        "Arguments\n",
        "\n",
        "Arguments are the actual values or data you pass to the function when calling it.\n",
        "\n",
        "They are assigned to the corresponding parameters.\n",
        "\n",
        "Example:\n",
        "\n",
        "python\n",
        "greet(\"Alice\")  # \"Alice\" is an argument"
      ],
      "metadata": {
        "id": "4m4bMRUpLTZN"
      }
    },
    {
      "cell_type": "markdown",
      "source": [
        "### Question 03-->What are the different ways to define and call a function in Python?\n",
        "***Ans-->*** 1. Basic Function Definition\n",
        "\n",
        "Use the def keyword followed by the function name and parentheses.\n",
        "\n",
        "Function body indented below.\n",
        "\n",
        "Call the function by its name followed by parentheses.\n",
        "\n",
        "2. Function with Parameters and Arguments\n",
        "\n",
        "Define parameters inside parentheses in the function definition.\n",
        "\n",
        "Pass arguments when calling the function.\n",
        "\n",
        "3. Function with Default Parameters\n",
        "\n",
        "Assign default values to parameters so that arguments are optional."
      ],
      "metadata": {
        "id": "ZPbMKLXdLTRN"
      }
    },
    {
      "cell_type": "markdown",
      "source": [
        "### Question 04--> What is the purpose of the `return` statement in a Python function?The purpose of the return statement in a Python function is to:\n",
        "***Ans-->*** The purpose of the return statement in a Python function is to:\n",
        "\n",
        "Exit the function immediately when the return is encountered.\n",
        "\n",
        "Send a value (or multiple values) back to the caller, which can then be assigned to a variable, used in expressions, or passed to other functions."
      ],
      "metadata": {
        "id": "v1nhK0V-LTJO"
      }
    },
    {
      "cell_type": "markdown",
      "source": [
        "### Question 05-->What are iterators in Python and how do they differ from iterables?\n",
        "***Ans-->*** Iterable\n",
        "\n",
        "An iterable is an object that can be looped over (iterated) — it produces an iterator when passed to the iter() function.\n",
        "\n",
        "Examples of iterables: lists, tuples, strings, dictionaries, sets.\n",
        "\n",
        "Iterator\n",
        "\n",
        "An iterator is an object that enables traversing through all the elements of an iterable one at a time.\n",
        "\n",
        "It keeps track of the current position during iteration."
      ],
      "metadata": {
        "id": "XTSOCsfyLTAt"
      }
    },
    {
      "cell_type": "markdown",
      "source": [
        "### Question 06-->Explain the concept of generators in Python and how they are defined.\n",
        "***Ans-->***A generator is a special type of function that returns an iterator which generates values lazily, one at a time, only when required. This allows efficient iteration over large datasets or infinite sequences without storing the entire sequence in memory.\n",
        "Instead of using return, a generator function uses the yield statement to produce a value and pause its execution.\n",
        "\n"
      ],
      "metadata": {
        "id": "uMlobC52LS4N"
      }
    },
    {
      "cell_type": "markdown",
      "source": [
        "### Question 07--> What are the advantages of using generators over regular functions?\n",
        "***Ans-->***Memory Efficiency:\n",
        "\n",
        "Generators produce items one at a time and on demand using yield, rather than creating and storing an entire sequence in memory like regular functions returning lists. This is especially beneficial for large data sets or infinite sequences.\n",
        "\n",
        "Lazy Evaluation:\n",
        "\n",
        "Values are generated only when requested, which means computation and memory use occur incrementally rather than all at once."
      ],
      "metadata": {
        "id": "fCPKTxHCLSwe"
      }
    },
    {
      "cell_type": "markdown",
      "source": [
        "### *Question 08-->What is a lambda function in Python and when is it typically used?\n",
        "***Ans-->***A lambda function is a small, anonymous function defined without a name. It can take any number of arguments but only contains a single expression, which is evaluated and returned.\n",
        "\n",
        "Syntax\n",
        "\n",
        "lambda arguments: expression\n",
        "\n",
        "Exa\n",
        "\n",
        "square = lambda x: x * x\n",
        "\n",
        "print(square(5))  # Output: 25"
      ],
      "metadata": {
        "id": "oSX36KGXLSpA"
      }
    },
    {
      "cell_type": "markdown",
      "source": [
        "### Question 09-->Explain the purpose and usage of the `map()` function in Python.\n",
        "***Ans-->***The map() function in Python is a built-in function that applies a given function to each item of one or more iterables (like lists, tuples) and returns an iterator with the results.\n",
        "\n",
        "EXAMPLE\n",
        "\n",
        "def square(x):\n",
        "\n",
        "    return x * x\n",
        "\n",
        "numbers = [1, 2, 3, 4]\n",
        "\n",
        "result = map(square, numbers)\n",
        "\n",
        "print(list(result))  # Output: [1, 4, 9, 16]"
      ],
      "metadata": {
        "id": "WqUTWIAaLShW"
      }
    },
    {
      "cell_type": "markdown",
      "source": [
        "### Question 10--> What is the difference between `map()`, `reduce()`, and `filter()` functions in Python?\n",
        "***Ans-->*** map()\n",
        "\n",
        "Applies a given function to each item in one or more iterables, producing a new iterable with the results. It transforms the elements without altering their number.\n",
        "\n",
        "filter()\n",
        "\n",
        "Applies a predicate function (returns True or False) to each item in an iterable and constructs a new iterable containing only the items for which the predicate returns True. It filters elements based on a condition, potentially reducing the number of items.\n",
        "\n",
        "reduce()\n",
        "\n",
        "Performs a cumulative computation by applying a binary function cumulatively to the items of an iterable, reducing the iterable to a single value. It aggregates or combines elements step-by-step until one result remains.\n",
        "\n"
      ],
      "metadata": {
        "id": "bqJlir2jLSZY"
      }
    },
    {
      "cell_type": "markdown",
      "source": [
        "### Question 11-->11. Using pen & Paper write the internal mechanism for sum operation using  reduce function on this given list:[47,11,42,13];\n",
        "***Ans-->***![WhatsApp Image 2025-08-27 at 15.57.23_352b9af8.jpg](data:image/jpeg;base64,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)"
      ],
      "metadata": {
        "id": "jpVL9VZznmpo"
      }
    },
    {
      "cell_type": "markdown",
      "source": [
        "## Practical Answers"
      ],
      "metadata": {
        "id": "F7nFdlGlLSGN"
      }
    },
    {
      "cell_type": "code",
      "source": [
        "# Question 01--> Write a Python function that takes a list of numbers as input and returns the sum of all even numbers in the list.\n",
        "def list_of_nums(num_list):\n",
        "    even_list=[]\n",
        "    for i in (num_list):\n",
        "        if i%2==0:\n",
        "            even_list.append(i)\n",
        "    return (sum(even_list))\n",
        "\n",
        "list_of_nums([1,2,3,4,5,6,7,8,9,10])\n"
      ],
      "metadata": {
        "id": "V1y7MIATNSRX",
        "colab": {
          "base_uri": "https://localhost:8080/"
        },
        "outputId": "0ab7bf40-c07f-4378-d8ae-9e6e4704d48a"
      },
      "execution_count": null,
      "outputs": [
        {
          "output_type": "execute_result",
          "data": {
            "text/plain": [
              "30"
            ]
          },
          "metadata": {},
          "execution_count": 1
        }
      ]
    },
    {
      "cell_type": "code",
      "source": [
        "# Question 02--> Create a Python function that accepts a string and returns the reverse of that string.\n",
        "def rev_string(string):\n",
        "    reverse_string=string[::-1]\n",
        "    return reverse_string\n",
        "rev_string(\"hello\")\n"
      ],
      "metadata": {
        "id": "hoY97lC4NSKn",
        "colab": {
          "base_uri": "https://localhost:8080/",
          "height": 35
        },
        "outputId": "82407572-8524-462d-85a4-3ec3681af7eb"
      },
      "execution_count": null,
      "outputs": [
        {
          "output_type": "execute_result",
          "data": {
            "text/plain": [
              "'olleh'"
            ],
            "application/vnd.google.colaboratory.intrinsic+json": {
              "type": "string"
            }
          },
          "metadata": {},
          "execution_count": 2
        }
      ]
    },
    {
      "cell_type": "code",
      "source": [
        "# Question 03-->  Implement a Python function that takes a list of integers and returns a new list containing the squares of each number.\n",
        "def square(int_list):\n",
        "    square_list=[]\n",
        "    for i in int_list:\n",
        "        sq=i**2\n",
        "        square_list.append(sq)\n",
        "    return square_list\n",
        "square([1,2,3,4])"
      ],
      "metadata": {
        "id": "jwDTYQJwNSEM",
        "colab": {
          "base_uri": "https://localhost:8080/"
        },
        "outputId": "0e4c0611-930d-440a-cfc6-d25ed87d65a8"
      },
      "execution_count": null,
      "outputs": [
        {
          "output_type": "execute_result",
          "data": {
            "text/plain": [
              "[1, 4, 9, 16]"
            ]
          },
          "metadata": {},
          "execution_count": 3
        }
      ]
    },
    {
      "cell_type": "code",
      "source": [
        "# Question 04--> Write a Python function that checks if a given number is prime or not from 1 to 200.\n",
        "def is_prime(n: int) -> bool:\n",
        "    if n < 2:  # 0 and 1 are not prime\n",
        "        return False\n",
        "    for i in range(2, int(n**0.5) + 1):  # check divisors up to sqrt(n)\n",
        "        if n % i == 0:\n",
        "            return False\n",
        "    return True\n",
        "\n",
        "# Now check numbers from 1 to 200\n",
        "for num in range(1, 201):\n",
        "    if is_prime(num):\n",
        "        print(f\"{num} is prime\")\n",
        "    else:\n",
        "        print(f\"{num} is not prime\")\n",
        "\n"
      ],
      "metadata": {
        "id": "AoRcOO4fNR9s",
        "colab": {
          "base_uri": "https://localhost:8080/"
        },
        "outputId": "d0236c0f-d217-4c7b-e01a-007236f05751",
        "collapsed": true
      },
      "execution_count": 1,
      "outputs": [
        {
          "output_type": "stream",
          "name": "stdout",
          "text": [
            "1 is not prime\n",
            "2 is prime\n",
            "3 is prime\n",
            "4 is not prime\n",
            "5 is prime\n",
            "6 is not prime\n",
            "7 is prime\n",
            "8 is not prime\n",
            "9 is not prime\n",
            "10 is not prime\n",
            "11 is prime\n",
            "12 is not prime\n",
            "13 is prime\n",
            "14 is not prime\n",
            "15 is not prime\n",
            "16 is not prime\n",
            "17 is prime\n",
            "18 is not prime\n",
            "19 is prime\n",
            "20 is not prime\n",
            "21 is not prime\n",
            "22 is not prime\n",
            "23 is prime\n",
            "24 is not prime\n",
            "25 is not prime\n",
            "26 is not prime\n",
            "27 is not prime\n",
            "28 is not prime\n",
            "29 is prime\n",
            "30 is not prime\n",
            "31 is prime\n",
            "32 is not prime\n",
            "33 is not prime\n",
            "34 is not prime\n",
            "35 is not prime\n",
            "36 is not prime\n",
            "37 is prime\n",
            "38 is not prime\n",
            "39 is not prime\n",
            "40 is not prime\n",
            "41 is prime\n",
            "42 is not prime\n",
            "43 is prime\n",
            "44 is not prime\n",
            "45 is not prime\n",
            "46 is not prime\n",
            "47 is prime\n",
            "48 is not prime\n",
            "49 is not prime\n",
            "50 is not prime\n",
            "51 is not prime\n",
            "52 is not prime\n",
            "53 is prime\n",
            "54 is not prime\n",
            "55 is not prime\n",
            "56 is not prime\n",
            "57 is not prime\n",
            "58 is not prime\n",
            "59 is prime\n",
            "60 is not prime\n",
            "61 is prime\n",
            "62 is not prime\n",
            "63 is not prime\n",
            "64 is not prime\n",
            "65 is not prime\n",
            "66 is not prime\n",
            "67 is prime\n",
            "68 is not prime\n",
            "69 is not prime\n",
            "70 is not prime\n",
            "71 is prime\n",
            "72 is not prime\n",
            "73 is prime\n",
            "74 is not prime\n",
            "75 is not prime\n",
            "76 is not prime\n",
            "77 is not prime\n",
            "78 is not prime\n",
            "79 is prime\n",
            "80 is not prime\n",
            "81 is not prime\n",
            "82 is not prime\n",
            "83 is prime\n",
            "84 is not prime\n",
            "85 is not prime\n",
            "86 is not prime\n",
            "87 is not prime\n",
            "88 is not prime\n",
            "89 is prime\n",
            "90 is not prime\n",
            "91 is not prime\n",
            "92 is not prime\n",
            "93 is not prime\n",
            "94 is not prime\n",
            "95 is not prime\n",
            "96 is not prime\n",
            "97 is prime\n",
            "98 is not prime\n",
            "99 is not prime\n",
            "100 is not prime\n",
            "101 is prime\n",
            "102 is not prime\n",
            "103 is prime\n",
            "104 is not prime\n",
            "105 is not prime\n",
            "106 is not prime\n",
            "107 is prime\n",
            "108 is not prime\n",
            "109 is prime\n",
            "110 is not prime\n",
            "111 is not prime\n",
            "112 is not prime\n",
            "113 is prime\n",
            "114 is not prime\n",
            "115 is not prime\n",
            "116 is not prime\n",
            "117 is not prime\n",
            "118 is not prime\n",
            "119 is not prime\n",
            "120 is not prime\n",
            "121 is not prime\n",
            "122 is not prime\n",
            "123 is not prime\n",
            "124 is not prime\n",
            "125 is not prime\n",
            "126 is not prime\n",
            "127 is prime\n",
            "128 is not prime\n",
            "129 is not prime\n",
            "130 is not prime\n",
            "131 is prime\n",
            "132 is not prime\n",
            "133 is not prime\n",
            "134 is not prime\n",
            "135 is not prime\n",
            "136 is not prime\n",
            "137 is prime\n",
            "138 is not prime\n",
            "139 is prime\n",
            "140 is not prime\n",
            "141 is not prime\n",
            "142 is not prime\n",
            "143 is not prime\n",
            "144 is not prime\n",
            "145 is not prime\n",
            "146 is not prime\n",
            "147 is not prime\n",
            "148 is not prime\n",
            "149 is prime\n",
            "150 is not prime\n",
            "151 is prime\n",
            "152 is not prime\n",
            "153 is not prime\n",
            "154 is not prime\n",
            "155 is not prime\n",
            "156 is not prime\n",
            "157 is prime\n",
            "158 is not prime\n",
            "159 is not prime\n",
            "160 is not prime\n",
            "161 is not prime\n",
            "162 is not prime\n",
            "163 is prime\n",
            "164 is not prime\n",
            "165 is not prime\n",
            "166 is not prime\n",
            "167 is prime\n",
            "168 is not prime\n",
            "169 is not prime\n",
            "170 is not prime\n",
            "171 is not prime\n",
            "172 is not prime\n",
            "173 is prime\n",
            "174 is not prime\n",
            "175 is not prime\n",
            "176 is not prime\n",
            "177 is not prime\n",
            "178 is not prime\n",
            "179 is prime\n",
            "180 is not prime\n",
            "181 is prime\n",
            "182 is not prime\n",
            "183 is not prime\n",
            "184 is not prime\n",
            "185 is not prime\n",
            "186 is not prime\n",
            "187 is not prime\n",
            "188 is not prime\n",
            "189 is not prime\n",
            "190 is not prime\n",
            "191 is prime\n",
            "192 is not prime\n",
            "193 is prime\n",
            "194 is not prime\n",
            "195 is not prime\n",
            "196 is not prime\n",
            "197 is prime\n",
            "198 is not prime\n",
            "199 is prime\n",
            "200 is not prime\n"
          ]
        }
      ]
    },
    {
      "cell_type": "code",
      "source": [
        "# Question 05--> Create an iterator class in Python that generates the Fibonacci sequence up to a specified number of terms.\n",
        "def fib_series(n):\n",
        "    a=0\n",
        "    b=1\n",
        "\n",
        "    for i in range (n):\n",
        "        yield (a)\n",
        "        a,b=b,a+b\n",
        "\n",
        "\n",
        "fib_seq=iter(fib_series(4))\n",
        "print((next(fib_seq)))\n"
      ],
      "metadata": {
        "id": "0MOKq00QNR29",
        "colab": {
          "base_uri": "https://localhost:8080/"
        },
        "outputId": "d2fa0d66-58a5-4e45-f15c-c63b778adac1"
      },
      "execution_count": null,
      "outputs": [
        {
          "output_type": "stream",
          "name": "stdout",
          "text": [
            "0\n"
          ]
        }
      ]
    },
    {
      "cell_type": "code",
      "source": [
        "# Question 06-->  Write a generator function in Python that yields the powers of 2 up to a given exponent.\n",
        "def pow(n):\n",
        "    for i in range (n):\n",
        "        yield (2**i)\n",
        "power=iter(pow(6))\n",
        "(next(power))\n"
      ],
      "metadata": {
        "id": "SmfACFkRNRw0",
        "colab": {
          "base_uri": "https://localhost:8080/"
        },
        "outputId": "95b16ec7-a46a-4965-fb38-fed6d02f87ef"
      },
      "execution_count": null,
      "outputs": [
        {
          "output_type": "execute_result",
          "data": {
            "text/plain": [
              "1"
            ]
          },
          "metadata": {},
          "execution_count": 7
        }
      ]
    },
    {
      "cell_type": "code",
      "source": [
        "# Question 07--> Implement a generator function that reads a file line by line and yields each line as a string.\n",
        "\n"
      ],
      "metadata": {
        "id": "MDnUpjx6NRqN"
      },
      "execution_count": null,
      "outputs": []
    },
    {
      "cell_type": "code",
      "source": [
        "# Question 08--> Use a lambda function in Python to sort a list of tuples based on the second element of each tuple."
      ],
      "metadata": {
        "id": "5zY3xddDNRjd"
      },
      "execution_count": null,
      "outputs": []
    },
    {
      "cell_type": "code",
      "source": [
        "# Question 09--> Write a Python program that uses `map()` to convert a list of temperatures from Celsius to Fahrenheit.\n",
        "temp=list(map(lambda x :x*9/5+32,[23,0,100]))\n",
        "print(temp)"
      ],
      "metadata": {
        "id": "r89JY6bbNRc1",
        "colab": {
          "base_uri": "https://localhost:8080/"
        },
        "outputId": "fb759867-33f1-4d9a-da93-27a5ead959da"
      },
      "execution_count": null,
      "outputs": [
        {
          "output_type": "stream",
          "name": "stdout",
          "text": [
            "[73.4, 32.0, 212.0]\n"
          ]
        }
      ]
    },
    {
      "cell_type": "code",
      "source": [
        "# Question 10--> Create a Python program that uses `filter()` to remove all the vowels from a given string.\n",
        "rem_vow=list(filter(lambda x : x not in \"AEIOUaeiou\",\"I Am a student of PW Skills Course\"))\n",
        "print(\"\".join(rem_vow))  #join is used to remove spaces between the characters"
      ],
      "metadata": {
        "id": "6jy6hrFCNRWd",
        "colab": {
          "base_uri": "https://localhost:8080/"
        },
        "outputId": "f02e87d5-1dc6-427d-e6a2-fa3c9eabd7fe"
      },
      "execution_count": null,
      "outputs": [
        {
          "output_type": "stream",
          "name": "stdout",
          "text": [
            " m  stdnt f PW Sklls Crs\n"
          ]
        }
      ]
    },
    {
      "cell_type": "code",
      "source": [
        "# Question 11-->"
      ],
      "metadata": {
        "id": "ExKZJCUTNRO-"
      },
      "execution_count": null,
      "outputs": []
    }
  ]
}